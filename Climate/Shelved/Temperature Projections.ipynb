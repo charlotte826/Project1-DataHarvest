{
 "cells": [
  {
   "cell_type": "code",
   "execution_count": null,
   "metadata": {},
   "outputs": [],
   "source": [
    "%matplotlib notebook\n",
    "import matplotlib.pyplot as plt\n",
    "import numpy as np\n",
    "import statsmodels.api as sm\n",
    "import pandas as pd"
   ]
  },
  {
   "cell_type": "code",
   "execution_count": null,
   "metadata": {},
   "outputs": [],
   "source": [
    "us_temperatures=pd.read_csv('datasets/PRISM saratoga mean temp since 1895CSV',delimiter=',')\n",
    "us_temperatures_df = pd.DataFrame(us_temperatures)\n",
    "us_temperatures_df.columns = us_temperatures_df.iloc[0]\n",
    "us_temperatures_df = us_temperatures_df[1:]\n",
    "#us_temperatures_df.to_csv('datasets/US-Temperatures-CSV2.csv', index=False) \n",
    "us_temperatures_df.head()\n",
    "#us_temperatures_df.shape[1]"
   ]
  }
 ],
 "metadata": {
  "kernelspec": {
   "display_name": "Python 3",
   "language": "python",
   "name": "python3"
  },
  "language_info": {
   "codemirror_mode": {
    "name": "ipython",
    "version": 3
   },
   "file_extension": ".py",
   "mimetype": "text/x-python",
   "name": "python",
   "nbconvert_exporter": "python",
   "pygments_lexer": "ipython3",
   "version": "3.7.0"
  }
 },
 "nbformat": 4,
 "nbformat_minor": 2
}
