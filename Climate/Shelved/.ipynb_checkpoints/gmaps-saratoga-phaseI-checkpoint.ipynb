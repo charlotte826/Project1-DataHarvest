{
 "cells": [
  {
   "cell_type": "code",
   "execution_count": 69,
   "metadata": {},
   "outputs": [],
   "source": [
    "%matplotlib notebook\n",
    "import matplotlib.pyplot as plt\n",
    "import numpy as np\n",
    "import statsmodels.api as sm\n",
    "import pandas as pd\n",
    "import gmaps\n",
    "import gmaps.datasets\n",
    "# Google developer API key\n",
    "from config import gkey\n",
    "# Access maps with unique API key\n",
    "gmaps.configure(api_key=gkey)"
   ]
  },
  {
   "cell_type": "code",
   "execution_count": 70,
   "metadata": {},
   "outputs": [
    {
     "data": {
      "text/html": [
       "<div>\n",
       "<style scoped>\n",
       "    .dataframe tbody tr th:only-of-type {\n",
       "        vertical-align: middle;\n",
       "    }\n",
       "\n",
       "    .dataframe tbody tr th {\n",
       "        vertical-align: top;\n",
       "    }\n",
       "\n",
       "    .dataframe thead th {\n",
       "        text-align: right;\n",
       "    }\n",
       "</style>\n",
       "<table border=\"1\" class=\"dataframe\">\n",
       "  <thead>\n",
       "    <tr style=\"text-align: right;\">\n",
       "      <th>9</th>\n",
       "      <th>Longitude</th>\n",
       "      <th>Latitude</th>\n",
       "      <th>Date</th>\n",
       "      <th>tmeanF</th>\n",
       "      <th>County</th>\n",
       "      <th>State</th>\n",
       "    </tr>\n",
       "  </thead>\n",
       "  <tbody>\n",
       "    <tr>\n",
       "      <th>118</th>\n",
       "      <td>-73.8639</td>\n",
       "      <td>43.1075</td>\n",
       "      <td>2013</td>\n",
       "      <td>46.6</td>\n",
       "      <td>Saratoga</td>\n",
       "      <td>New York</td>\n",
       "    </tr>\n",
       "    <tr>\n",
       "      <th>119</th>\n",
       "      <td>-73.8639</td>\n",
       "      <td>43.1075</td>\n",
       "      <td>2014</td>\n",
       "      <td>45.4</td>\n",
       "      <td>Saratoga</td>\n",
       "      <td>New York</td>\n",
       "    </tr>\n",
       "    <tr>\n",
       "      <th>120</th>\n",
       "      <td>-73.8639</td>\n",
       "      <td>43.1075</td>\n",
       "      <td>2015</td>\n",
       "      <td>46.4</td>\n",
       "      <td>Saratoga</td>\n",
       "      <td>New York</td>\n",
       "    </tr>\n",
       "    <tr>\n",
       "      <th>121</th>\n",
       "      <td>-73.8639</td>\n",
       "      <td>43.1075</td>\n",
       "      <td>2016</td>\n",
       "      <td>48.6</td>\n",
       "      <td>Saratoga</td>\n",
       "      <td>New York</td>\n",
       "    </tr>\n",
       "    <tr>\n",
       "      <th>122</th>\n",
       "      <td>-73.8639</td>\n",
       "      <td>43.1075</td>\n",
       "      <td>2017</td>\n",
       "      <td>47.9</td>\n",
       "      <td>Saratoga</td>\n",
       "      <td>New York</td>\n",
       "    </tr>\n",
       "  </tbody>\n",
       "</table>\n",
       "</div>"
      ],
      "text/plain": [
       "9   Longitude Latitude  Date tmeanF    County     State\n",
       "118  -73.8639  43.1075  2013   46.6  Saratoga  New York\n",
       "119  -73.8639  43.1075  2014   45.4  Saratoga  New York\n",
       "120  -73.8639  43.1075  2015   46.4  Saratoga  New York\n",
       "121  -73.8639  43.1075  2016   48.6  Saratoga  New York\n",
       "122  -73.8639  43.1075  2017   47.9  Saratoga  New York"
      ]
     },
     "execution_count": 70,
     "metadata": {},
     "output_type": "execute_result"
    }
   ],
   "source": [
    "sar_temperatures=pd.read_csv('datasets/PRISM saratoga mean temp since 1895CSV.csv',delimiter=',')\n",
    "sar_temperatures_df = pd.DataFrame(sar_temperatures)\n",
    "sar_temperatures_df.columns = sar_temperatures_df.iloc[9]\n",
    "sar_temperatures_df = sar_temperatures_df[10:]\n",
    "sar_temperatures_df = sar_temperatures_df.reset_index(drop=True)\n",
    "sar_temperatures_df = sar_temperatures_df.dropna(how='any',axis=0) \n",
    "\n",
    "#us_temperatures_df.to_csv('datasets/US-Temperatures-CSV2.csv', index=False) \n",
    "sar_temperatures_df['County']='Saratoga'\n",
    "sar_temperatures_df['State']='New York'\n",
    "sar_temperatures_df['Latitude']='43.1075'\n",
    "sar_temperatures_df['Longitude']='-73.8639'\n",
    "sar_temperatures_df = sar_temperatures_df[['Longitude', 'Latitude', 'Date', 'tmean (degrees F)','County','State']]\n",
    "sar_temperatures_df = sar_temperatures_df.rename(columns={'tmean (degrees F)': 'tmeanF'})\n",
    "sar_temperatures_df.tail()"
   ]
  },
  {
   "cell_type": "code",
   "execution_count": 71,
   "metadata": {},
   "outputs": [],
   "source": [
    "sar_temperatures_df['Longitude'] = pd.to_numeric(sar_temperatures_df['Longitude'])\n",
    "sar_temperatures_df['Latitude'] = pd.to_numeric(sar_temperatures_df['Latitude'])\n",
    "#sar_temperatures_df['tmeanF'] = pd.to_numeric(sar_temperatures_df['tmeanF'])\n",
    "sar_temperatures_df[\"tmeanF\"] = sar_temperatures_df.tmeanF.astype(float)\n",
    "#sar_temperatures_df.tmeanF.dtype\n",
    "#https://stackoverflow.com/questions/48094854/python-convert-object-to-float"
   ]
  },
  {
   "cell_type": "code",
   "execution_count": 77,
   "metadata": {},
   "outputs": [
    {
     "data": {
      "application/vnd.jupyter.widget-view+json": {
       "model_id": "c983d4c368c94d44b8e4f5a01f4f1749",
       "version_major": 2,
       "version_minor": 0
      },
      "text/plain": [
       "Figure(layout=FigureLayout(height='420px'))"
      ]
     },
     "metadata": {},
     "output_type": "display_data"
    }
   ],
   "source": [
    "# Create a list containing coordinates\n",
    "\n",
    "locations = sar_temperatures_df[['Latitude','Longitude']]\n",
    "weights = sar_temperatures_df['tmeanF']\n",
    "#locations.head()\n",
    "fig = gmaps.figure(map_type='HYBRID')\n",
    "heatmap_layer = gmaps.heatmap_layer(locations)\n",
    "fig.add_layer(gmaps.heatmap_layer(locations,weights=weights))\n",
    "heatmap_layer.point_radius = 8\n",
    "fig"
   ]
  },
  {
   "cell_type": "code",
   "execution_count": 18,
   "metadata": {},
   "outputs": [],
   "source": []
  },
  {
   "cell_type": "code",
   "execution_count": null,
   "metadata": {},
   "outputs": [],
   "source": []
  },
  {
   "cell_type": "code",
   "execution_count": null,
   "metadata": {
    "scrolled": true
   },
   "outputs": [],
   "source": []
  },
  {
   "cell_type": "code",
   "execution_count": null,
   "metadata": {},
   "outputs": [],
   "source": []
  },
  {
   "cell_type": "code",
   "execution_count": null,
   "metadata": {},
   "outputs": [],
   "source": []
  }
 ],
 "metadata": {
  "kernelspec": {
   "display_name": "Python 3",
   "language": "python",
   "name": "python3"
  },
  "language_info": {
   "codemirror_mode": {
    "name": "ipython",
    "version": 3
   },
   "file_extension": ".py",
   "mimetype": "text/x-python",
   "name": "python",
   "nbconvert_exporter": "python",
   "pygments_lexer": "ipython3",
   "version": "3.7.0"
  }
 },
 "nbformat": 4,
 "nbformat_minor": 2
}
